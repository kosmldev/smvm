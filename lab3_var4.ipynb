{
 "cells": [
  {
   "cell_type": "code",
   "execution_count": 16,
   "id": "73c22eaa",
   "metadata": {},
   "outputs": [],
   "source": [
    "import numpy as np\n",
    "import matplotlib.pyplot as plt\n",
    "import time\n",
    "import pandas as pd\n",
    "import seaborn as sns\n",
    "sns.set_style('darkgrid')"
   ]
  },
  {
   "cell_type": "code",
   "execution_count": 17,
   "id": "9e8d52eb",
   "metadata": {},
   "outputs": [],
   "source": [
    "L = 2\n",
    "a = 0.6\n",
    "P = 6000\n",
    "E = 200.0*1e9\n",
    "b = 0.1\n",
    "h = 0.1\n",
    "C = 1"
   ]
  },
  {
   "cell_type": "code",
   "execution_count": 18,
   "id": "cf7d3b68",
   "metadata": {},
   "outputs": [
    {
     "data": {
      "text/plain": [
       "array([-0.001512 , -0.00216  , -0.005688 ,  0.       ,  0.0001296,\n",
       "        0.001776 ])"
      ]
     },
     "execution_count": 18,
     "metadata": {},
     "output_type": "execute_result"
    }
   ],
   "source": [
    "Matrix_A = np.array([\n",
    "    [0, 0, 0, 1, 0, 0],\n",
    "    [0, 0, L, 0, 0, 1],\n",
    "    [a, -a, 0, 0, -1, 0],\n",
    "    [0, (L-a), (a-L), 0, 1, -1],\n",
    "    [1, -1, 0, 0, 0, 0],\n",
    "    [0, 1, -1, 0, 0, 0]\n",
    "])\n",
    "Matrix_B = np.array(\n",
    "    [0, # интеграл при x = 0\n",
    "     - (12 / (E * b * h**3)*P*(L**3)) / 3, # интеграл при x = L\n",
    "     12 / (E * b * h**3)*P*a**3 / 3, # условие непрерывности в a\n",
    "     -12 / (E * b * h**3)*P*a*(L-a)**2/2 + 12 / (E * b * h**3)*P*L*(L-a)**2/2 - 12 / (E * b * h**3)*P*(L-a)**3/6, # условие непрерывности в L-a\n",
    "     12 / (E * b * h**3) / 2*P*a**2, # условие непрерывности производной в a\n",
    "     -12 / (E * b * h**3)*P*a*(L-a)+12 / (E * b * h**3)*P*L*(L-a) - 12 / (E * b * h**3)*P*(L-a)**2/2]) # условие непрерывности производной в L-a\n",
    "coef = np.linalg.solve(Matrix_A, Matrix_B)\n",
    "coef"
   ]
  },
  {
   "cell_type": "code",
   "execution_count": 19,
   "id": "023d3075",
   "metadata": {},
   "outputs": [
    {
     "data": {
      "text/plain": [
       "0.0015151515151515152"
      ]
     },
     "execution_count": 19,
     "metadata": {},
     "output_type": "execute_result"
    }
   ],
   "source": [
    "1/660"
   ]
  },
  {
   "cell_type": "code",
   "execution_count": 20,
   "id": "65667aeb",
   "metadata": {},
   "outputs": [],
   "source": [
    "def M(x): # M(x)\n",
    "    if (x < a):\n",
    "        return P * x\n",
    "    elif ((x >= a) and (x < (L-a))):\n",
    "        return P * a\n",
    "    else:\n",
    "        return P * (L - x)\n",
    "    \n",
    "def f(x): # f(x)\n",
    "    return 12 * M(x) / E / b / h**3"
   ]
  },
  {
   "cell_type": "code",
   "execution_count": 21,
   "id": "2514a17d",
   "metadata": {},
   "outputs": [],
   "source": [
    "def u0(): # краевое условие в 0\n",
    "    return 0"
   ]
  },
  {
   "cell_type": "code",
   "execution_count": 22,
   "id": "e14475ad",
   "metadata": {},
   "outputs": [],
   "source": [
    "def uL(): # краевое условие в L\n",
    "    return 0"
   ]
  },
  {
   "cell_type": "code",
   "execution_count": 23,
   "id": "0466c7f3",
   "metadata": {},
   "outputs": [],
   "source": [
    "def u_exact(x): # точное решение задачи\n",
    "    if (x < a):\n",
    "        return coef[0] * x + coef[3] + 12 / (E * b * h**3) * P / 6 * x**3\n",
    "    elif ((x >= a) and (x < (L-a))):\n",
    "        return coef[1] * x + coef[4] + 12 / (E * b * h**3) * P * a / 2 * x**2\n",
    "    else:\n",
    "        return coef[2] * x + coef[5] + 12 / (E * b * h**3) * P * L / 2 * x**2 - 12 / (E * b * h**3) * P / 6 * x**3"
   ]
  },
  {
   "cell_type": "code",
   "execution_count": 24,
   "id": "77861f5b",
   "metadata": {},
   "outputs": [],
   "source": [
    "def psi(x, i, x_i, N):\n",
    "    # считаем пси\n",
    "    # подаем точку x, а также порядковый номер конечного элемента i\n",
    "    # также подаем исходный массив иксов x_i и количество конечных элментов N\n",
    "    if (i==0): # если первый конечный элемент\n",
    "        if(x<=x_i[1]):\n",
    "            return (x_i[1]-x)/(x_i[1]-x_i[0])\n",
    "        else:\n",
    "            return 0\n",
    "    elif (i==N): # если последний конечный элемент\n",
    "        if(x>x_i[N-1]):\n",
    "            return (-x_i[N-1]+x)/(x_i[N]-x_i[N-1])\n",
    "        else:\n",
    "            return 0\n",
    "    else:\n",
    "        if((x>x_i[i-1]) & (x<=x_i[i])):\n",
    "            return (-x_i[i-1]+x)/(x_i[i]-x_i[i-1])\n",
    "        elif((x>x_i[i]) & (x<=x_i[i+1])):\n",
    "            return (x_i[i+1]-x)/(x_i[i+1]-x_i[i])\n",
    "        else:  \n",
    "            return 0   "
   ]
  },
  {
   "cell_type": "code",
   "execution_count": 25,
   "id": "2b5203e8",
   "metadata": {},
   "outputs": [],
   "source": [
    "def u_out(u_m, x, x_i, N): # чтобы из полученного решения методом МКЭ перейти в более частую сетку (для расчетов погрешности)\n",
    "    ans = 0\n",
    "    for i in range(len(u_m)):\n",
    "        ans+= psi(x, i, x_i, N)*u_m[i]\n",
    "    return ans"
   ]
  },
  {
   "cell_type": "code",
   "execution_count": 26,
   "id": "3bbd8d4e",
   "metadata": {},
   "outputs": [],
   "source": [
    "def calculate(N):\n",
    "    time1 = time.time()\n",
    "    \n",
    "    x_i = np.linspace(0,L,N+1) # иксы наших конечных элементов\n",
    "    \n",
    "    A = np.zeros((N+1)*(N+1)).reshape(N+1,N+1) # глобальная матрица жесткости\n",
    "    for i in range(1,N+1):\n",
    "        A[i][i]+=1.0\n",
    "        A[i-1][i-1]+=1.0\n",
    "        A[i][i-1]-=1.0\n",
    "        A[i-1][i]-=1.0\n",
    "    A[0] = np.zeros(N+1) # балка закреплена жестко слева\n",
    "    A[N] = np.zeros(N+1) # балка закреплена жестко справа\n",
    "    A[0][0] = 1\n",
    "    A[N][N] = 1\n",
    "    \n",
    "    A = C*N/L*A\n",
    "    \n",
    "    cond_A = np.linalg.cond(A) # считаем собственное число\n",
    "    b = np.zeros(len(x_i)) # считаем вектор решений b\n",
    "    Q = 10000 # разбиение элемента\n",
    "    for s in range(0,N+1): # в этом ц\n",
    "        # от x_s до x_s+1\n",
    "        x_new = 0\n",
    "        y_new = 0\n",
    "        if(s<N):\n",
    "            x_razbienie = np.linspace(x_i[s],x_i[s+1],Q)\n",
    "            h_new = x_razbienie[1] - x_razbienie[0]\n",
    "            for j in range(len(x_razbienie)-1):\n",
    "                x_new += h_new*f(x_razbienie[j])*((x_razbienie[j]-x_i[s+1])/(x_i[s]-x_i[s+1])+\n",
    "                               (x_razbienie[j+1]-x_i[s+1])/(x_i[s]-x_i[s+1]))/2\n",
    "\n",
    "                y_new += h_new*f(x_razbienie[j])*((-x_razbienie[j]+x_i[s])/(x_i[s]-x_i[s+1])+\n",
    "                               (-x_razbienie[j+1]+x_i[s])/(x_i[s]-x_i[s+1]))/2     \n",
    "            b[s]+=-x_new\n",
    "            b[s+1]+=-y_new\n",
    "    b[N] = uL()\n",
    "    b[0] = u0()\n",
    "    \n",
    "    ans = np.linalg.inv(A).dot(b) # решаем A*x=b методом x = A^-1*b\n",
    "    time2 = time.time()\n",
    "    out_time = time2 - time1\n",
    "    x_new = np.linspace(0,L,Q)\n",
    "    y_new = [u_out(ans, i, x_i, N) for i in x_new] # для расчета погрешности перейдем в сетку на 10000 \n",
    "    y_new = np.array(y_new)\n",
    "    y_old = [u_exact(i) for i in x_new] # считаем точное решение\n",
    "    y_old = np.array(y_old)\n",
    "    \n",
    "    E1 = (np.abs((y_new-y_old)).max()/np.abs(y_old).max()) # считаем абс погрешность\n",
    "    \n",
    "    suma_up = 0\n",
    "    suma_down = 0\n",
    "    h = x_new[1]-x_new[0]\n",
    "    for i in range(len(x_new)-1):\n",
    "        suma_up+= ((u_exact(x_new[i])-u_out(ans,x_new[i], x_i, N))**2+(u_exact(x_new[i+1])-u_out(ans,x_new[i+1], x_i, N))**2)#/2\n",
    "        suma_down+=(u_exact(x_new[i])**2+u_exact(x_new[i+1])**2)#/2\n",
    "    E2 = (np.sqrt(suma_up/suma_down)) # считаем относ погрешность\n",
    "    \n",
    "    y_new = [u_out(ans, i, x_i, N) for i in x_i]\n",
    "    \n",
    "    plot_data = {\n",
    "        'x_tochn': x_new,\n",
    "        'x_pribl': x_i,\n",
    "        'tochn': y_old,\n",
    "        'pribl': y_new,\n",
    "    } # эту штуку мы будем использовать чтобы построить график\n",
    "    return cond_A, E1, E2, out_time, plot_data, N\n",
    "\n",
    "def plot_graphic(plot_data, N): # строим график\n",
    "    plt.subplots(figsize=(7,7))\n",
    "    plt.plot(plot_data['x_tochn'], plot_data['tochn'] ,lw=4,alpha=0.9, label='Точное решение')\n",
    "    plt.plot(plot_data['x_pribl'], plot_data['pribl'] ,lw=2,ls='--', marker='o',ms=15/np.log2(N), label=f'МКЭ N={N}')\n",
    "    #plt.legend()\n",
    "    plt.xlabel(\"x\", size=20)\n",
    "    plt.ylabel(\"u\", size=20)\n",
    "    plt.xticks(size=15)\n",
    "    plt.yticks(size=15)\n",
    "    plt.legend(prop={'size': 15})"
   ]
  },
  {
   "cell_type": "code",
   "execution_count": 14,
   "id": "00e6638b",
   "metadata": {},
   "outputs": [
    {
     "data": {
      "text/html": [
       "<div>\n",
       "<style scoped>\n",
       "    .dataframe tbody tr th:only-of-type {\n",
       "        vertical-align: middle;\n",
       "    }\n",
       "\n",
       "    .dataframe tbody tr th {\n",
       "        vertical-align: top;\n",
       "    }\n",
       "\n",
       "    .dataframe thead th {\n",
       "        text-align: right;\n",
       "    }\n",
       "</style>\n",
       "<table border=\"1\" class=\"dataframe\">\n",
       "  <thead>\n",
       "    <tr style=\"text-align: right;\">\n",
       "      <th></th>\n",
       "      <th>cond_A</th>\n",
       "      <th>E1</th>\n",
       "      <th>E2</th>\n",
       "      <th>time</th>\n",
       "    </tr>\n",
       "  </thead>\n",
       "  <tbody>\n",
       "    <tr>\n",
       "      <th>0</th>\n",
       "      <td>0.000000</td>\n",
       "      <td>0.000000</td>\n",
       "      <td>0.000000</td>\n",
       "      <td>0.000000</td>\n",
       "    </tr>\n",
       "    <tr>\n",
       "      <th>1</th>\n",
       "      <td>3.186141</td>\n",
       "      <td>0.220043</td>\n",
       "      <td>0.220166</td>\n",
       "      <td>0.070486</td>\n",
       "    </tr>\n",
       "    <tr>\n",
       "      <th>2</th>\n",
       "      <td>7.643906</td>\n",
       "      <td>0.070711</td>\n",
       "      <td>0.055623</td>\n",
       "      <td>0.162519</td>\n",
       "    </tr>\n",
       "    <tr>\n",
       "      <th>3</th>\n",
       "      <td>26.287086</td>\n",
       "      <td>0.017757</td>\n",
       "      <td>0.014095</td>\n",
       "      <td>0.274950</td>\n",
       "    </tr>\n",
       "    <tr>\n",
       "      <th>4</th>\n",
       "      <td>103.616175</td>\n",
       "      <td>0.004440</td>\n",
       "      <td>0.003523</td>\n",
       "      <td>0.548973</td>\n",
       "    </tr>\n",
       "    <tr>\n",
       "      <th>5</th>\n",
       "      <td>414.613343</td>\n",
       "      <td>0.001110</td>\n",
       "      <td>0.000882</td>\n",
       "      <td>1.094076</td>\n",
       "    </tr>\n",
       "    <tr>\n",
       "      <th>6</th>\n",
       "      <td>1659.514300</td>\n",
       "      <td>0.000278</td>\n",
       "      <td>0.000220</td>\n",
       "      <td>2.161431</td>\n",
       "    </tr>\n",
       "  </tbody>\n",
       "</table>\n",
       "</div>"
      ],
      "text/plain": [
       "        cond_A        E1        E2      time\n",
       "0     0.000000  0.000000  0.000000  0.000000\n",
       "1     3.186141  0.220043  0.220166  0.070486\n",
       "2     7.643906  0.070711  0.055623  0.162519\n",
       "3    26.287086  0.017757  0.014095  0.274950\n",
       "4   103.616175  0.004440  0.003523  0.548973\n",
       "5   414.613343  0.001110  0.000882  1.094076\n",
       "6  1659.514300  0.000278  0.000220  2.161431"
      ]
     },
     "execution_count": 14,
     "metadata": {},
     "output_type": "execute_result"
    }
   ],
   "source": [
    "dict_ = {\n",
    "    \"N\": [1],\n",
    "    \"cond_A\": [0],\n",
    "    \"E1\": [0],\n",
    "    'E2': [0],\n",
    "    \"time\": [0]\n",
    "} # заполняем табличку\n",
    "\n",
    "for i in [2**i for i in range(1, 9)]:\n",
    "    returned = calculate(i)\n",
    "    dict_['N'].append(i)\n",
    "    dict_['cond_A'].append(returned[0])\n",
    "    dict_['E1'].append(returned[1])\n",
    "    dict_['E2'].append(returned[2])\n",
    "    dict_['time'].append(returned[3])\n",
    "pd.DataFrame(dict_)"
   ]
  },
  {
   "cell_type": "code",
   "execution_count": 15,
   "id": "56e2a4f1",
   "metadata": {
    "scrolled": false
   },
   "outputs": [
    {
     "data": {
      "image/png": "[encoded data removed]",
      "text/plain": [
       "<Figure size 700x700 with 1 Axes>"
      ]
     },
     "metadata": {},
     "output_type": "display_data"
    }
   ],
   "source": [
    "N = 5\n",
    "returned = calculate(N)\n",
    "plot_graphic(returned[4], returned[5])"
   ]
  },
  {
   "cell_type": "code",
   "execution_count": null,
   "id": "a2c27f56",
   "metadata": {},
   "outputs": [],
   "source": [
    "A x = b\n",
    "QR x = b\n",
    "R x = QT b\n",
    "x = R-1 QT b"
   ]
  }
 ],
 "metadata": {
  "kernelspec": {
   "display_name": "Python 3 (ipykernel)",
   "language": "python",
   "name": "python3"
  },
  "language_info": {
   "codemirror_mode": {
    "name": "ipython",
    "version": 3
   },
   "file_extension": ".py",
   "mimetype": "text/x-python",
   "name": "python",
   "nbconvert_exporter": "python",
   "pygments_lexer": "ipython3",
   "version": "3.10.12"
  }
 },
 "nbformat": 4,
 "nbformat_minor": 5
}
